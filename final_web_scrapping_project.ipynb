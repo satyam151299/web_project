{
 "cells": [
  {
   "cell_type": "markdown",
   "metadata": {},
   "source": [
    "# import some library"
   ]
  },
  {
   "cell_type": "code",
   "execution_count": 12,
   "metadata": {},
   "outputs": [],
   "source": [
    "import pytesseract\n",
    "import selenium\n",
    "import cv2\n",
    "import numpy as np\n",
    "import time\n",
    "from selenium import webdriver\n",
    "from PIL import Image"
   ]
  },
  {
   "cell_type": "markdown",
   "metadata": {},
   "source": [
    "use time library to stop web browser and then define function for captcha\n",
    "hadlingcaptcha.\n",
    "chrome.exe for automation to html form by http request and then scrape the data from website"
   ]
  },
  {
   "cell_type": "code",
   "execution_count": 13,
   "metadata": {},
   "outputs": [
    {
     "name": "stdout",
     "output_type": "stream",
     "text": [
      "DL-0420110149646\n",
      "09-02-1976\n",
      "Current Status: ACTIVE\n"
     ]
    }
   ],
   "source": [
    "import cv2\n",
    "import time\n",
    "def get_captcha_text(img,location, size):\n",
    "    pytesseract.pytesseract.tesseract_cmd ='C:/Program Files/Tesseract-OCR/tesseract.exe'\n",
    "    im = Image.open(img) # uses PIL library to open image in memory\n",
    "\n",
    "    left = location['x']\n",
    "    top = location['y']\n",
    "    right = location['x'] + size['width']\n",
    "    bottom = location['y'] + size['height']\n",
    "\n",
    "\n",
    "    im = im.crop((left, top, right, bottom)) # defines crop points\n",
    "    im.save('sc.png')\n",
    "    pytesseract.pytesseract.tesseract_cmd=r'C:/Program Files/Tesseract-OCR/tesseract.exe'\n",
    "    img=Image.open(\"sc.png\").convert('RGB')\n",
    "    image = 'sc.png'\n",
    "    img=cv2.imread(image)\n",
    "    img=cv2.resize(img,None,fx=1,fy=1,interpolation=cv2.INTER_LINEAR)\n",
    "    kernal=cv2.medianBlur(img,3)\n",
    "    tn,img=cv2.threshold(img,0,255,cv2.THRESH_BINARY)\n",
    "    kernal=cv2.getStructuringElement(cv2.MORPH_RECT,(1,3))\n",
    "    img=cv2.morphologyEx(img,cv2.MORPH_CLOSE,kernal)\n",
    "    cv2.imwrite(\"sam.png\",img)\n",
    "    file=\"sam.png\"\n",
    "    text=pytesseract.image_to_string(\"sam.png\")\n",
    "    return ''.join(i for i in text if i.isalnum())\n",
    "\n",
    "def login_to_website():\n",
    "    url = 'https://parivahan.gov.in/rcdlstatus/?pur_cd=101'\n",
    "    driver = webdriver.Chrome(executable_path = \"chromedriver.exe\")\n",
    "    driver.get(url)\n",
    "    driver.set_window_size(1120, 550)\n",
    "    driver.set_page_load_timeout(45)\n",
    "    element=driver.find_element_by_xpath('/html/body/form/div[1]/div[3]/div[1]/div/div[2]/div[3]/div/div[2]/div/div[2]/table/tbody/tr/td[1]/img')\n",
    "    location=element.location\n",
    "    size=element.size\n",
    "    driver.save_screenshot('sc.png')\n",
    "    dlno=driver.find_element_by_xpath('//*[@id=\"form_rcdl:tf_dlNO\"]')\n",
    "    dlno.clear()\n",
    "    dlno_input=input()\n",
    "    dlno.send_keys(dlno_input) \n",
    "    dob=driver.find_element_by_xpath('//*[@id=\"form_rcdl:tf_dob_input\"]')\n",
    "    dob.clear()\n",
    "    dob_input=input()\n",
    "    dob.send_keys(dob_input)\n",
    "    captcha=driver.find_element_by_xpath('//*[@id=\"form_rcdl:j_idt34:CaptchaID\"]')\n",
    "    captcha.clear()\n",
    "    captcha_text=get_captcha_text(\"sc.png\",location,size)\n",
    "    #captcha.send_keys(captcha_text)\n",
    "    time.sleep(20)\n",
    "    driver.find_element_by_xpath('//*[@id=\"form_rcdl:j_idt46\"]/span').click()\n",
    "    #driver.get(\"https://parivahan.gov.in/rcdlstatus/?pur_cd=101\")\n",
    "    time.sleep(20)\n",
    "    status=driver.find_element_by_xpath('//*[@id=\"form_rcdl:j_idt118\"]/table[1]/tbody/tr[1]')\n",
    "    name=driver.find_element_by_xpath('//*[@id=\"form_rcdl:j_idt118\"]/table[1]/tbody/tr[2]/td[2]')\n",
    "    date_essues=driver.find_element_by_xpath('//*[@id=\"form_rcdl:j_idt118\"]/table[1]/tbody/tr[3]/td[2]')\n",
    "    dlnumber=driver.find_element_by_xpath('//*[@id=\"form_rcdl:j_idt118\"]/table[1]/tbody/tr[5]/td[2]')\n",
    "    class_of_vahical=driver.find_element_by_xpath('//*[@id=\"form_rcdl:j_idt167_data\"]/tr/td[2]')\n",
    "    date_of_expire=driver.find_element_by_xpath('//*[@id=\"form_rcdl:j_idt118\"]/table[2]/tbody/tr[1]/td[3]')\n",
    "    s=status.text\n",
    "    print(s)\n",
    "    return status,name,date_essues,dlnumber,class_of_vahical,dob_input,date_of_expire\n",
    "status,name,date_essues,dlnumber,class_of_vahical,dob,date_of_expire=login_to_website()"
   ]
  },
  {
   "cell_type": "markdown",
   "metadata": {},
   "source": [
    "now time to store the date that is scrape by using above code by using simple dict method of python"
   ]
  },
  {
   "cell_type": "code",
   "execution_count": 14,
   "metadata": {},
   "outputs": [],
   "source": [
    "def data_base(status,name,date_essues,dlnumber,class_of_vahical,date_of_expire):\n",
    "    d={\"Driving License Number\":dlnumber.text,\"Date of Birth\":dob}\n",
    "    if status.text[16:]==\"ACTIVE\":\n",
    "        d[\"holdername\"]=name.text\n",
    "        d[\"date_essues\"]=date_essues.text\n",
    "        d[\"class_of_vehicle\"]=class_of_vahical.text\n",
    "        d[\"date_of_expir\"]=date_of_expire.text[3:]\n",
    "    else:\n",
    "        d[\"Status\":None]\n",
    "    return d    \n",
    "    "
   ]
  },
  {
   "cell_type": "markdown",
   "metadata": {},
   "source": [
    "for showing the data call the data_base function"
   ]
  },
  {
   "cell_type": "code",
   "execution_count": 16,
   "metadata": {},
   "outputs": [
    {
     "data": {
      "text/plain": [
       "{'Driving License Number': 'DL-0420110149646',\n",
       " 'Date of Birth': '09-02-1976',\n",
       " 'holdername': 'ANURAG BREJA',\n",
       " 'date_essues': '01-Mar-2011',\n",
       " 'class_of_vehicle': 'ADPVEH',\n",
       " 'date_of_expir': ' 08-Feb-2026'}"
      ]
     },
     "execution_count": 16,
     "metadata": {},
     "output_type": "execute_result"
    }
   ],
   "source": [
    "data_base(status,name,date_essues,dlnumber,class_of_vahical,date_of_expire)"
   ]
  },
  {
   "cell_type": "code",
   "execution_count": 5,
   "metadata": {},
   "outputs": [],
   "source": [
    "d=data_base(status,name,date_essues,dlnumber,class_of_vahical,date_of_expire)"
   ]
  },
  {
   "cell_type": "markdown",
   "metadata": {},
   "source": [
    "now get that data in json format"
   ]
  },
  {
   "cell_type": "code",
   "execution_count": 17,
   "metadata": {},
   "outputs": [],
   "source": [
    "def data_json():\n",
    "    import json                        \n",
    "    with open(\"final.json\",\"w\")as file:\n",
    "        json.dump(d,file)"
   ]
  },
  {
   "cell_type": "markdown",
   "metadata": {},
   "source": [
    "call data_json function to store the data"
   ]
  },
  {
   "cell_type": "code",
   "execution_count": 19,
   "metadata": {},
   "outputs": [],
   "source": [
    "data_json()"
   ]
  },
  {
   "cell_type": "code",
   "execution_count": null,
   "metadata": {},
   "outputs": [],
   "source": []
  },
  {
   "cell_type": "code",
   "execution_count": null,
   "metadata": {},
   "outputs": [],
   "source": []
  }
 ],
 "metadata": {
  "kernelspec": {
   "display_name": "Python 3",
   "language": "python",
   "name": "python3"
  },
  "language_info": {
   "codemirror_mode": {
    "name": "ipython",
    "version": 3
   },
   "file_extension": ".py",
   "mimetype": "text/x-python",
   "name": "python",
   "nbconvert_exporter": "python",
   "pygments_lexer": "ipython3",
   "version": "3.7.3"
  }
 },
 "nbformat": 4,
 "nbformat_minor": 2
}
